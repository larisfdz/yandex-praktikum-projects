{
 "cells": [
  {
   "cell_type": "code",
   "execution_count": 1,
   "metadata": {},
   "outputs": [],
   "source": [
    "import pandas as pd\n",
    "import matplotlib.pyplot as plt\n",
    "import numpy as np\n",
    "from IPython.display import display_html\n",
    "import scipy.stats as stats"
   ]
  },
  {
   "cell_type": "markdown",
   "metadata": {},
   "source": [
    "Нашла в интернете функцию для расположения таблиц на одной горизонтали:"
   ]
  },
  {
   "cell_type": "code",
   "execution_count": 2,
   "metadata": {},
   "outputs": [],
   "source": [
    "from IPython.display import display_html\n",
    "def display_side_by_side(*args):\n",
    "    html_str=''\n",
    "    for df in args:\n",
    "        html_str+=df.to_html()\n",
    "    display_html(html_str.replace('table','table style=\"display:inline\"'),raw=True)"
   ]
  },
  {
   "cell_type": "code",
   "execution_count": 3,
   "metadata": {},
   "outputs": [],
   "source": [
    "rating = pd.read_csv('/datasets/rating.csv')"
   ]
  },
  {
   "cell_type": "markdown",
   "metadata": {},
   "source": [
    "# Подготовка данных"
   ]
  },
  {
   "cell_type": "code",
   "execution_count": 4,
   "metadata": {},
   "outputs": [
    {
     "name": "stdout",
     "output_type": "stream",
     "text": [
      "<class 'pandas.core.frame.DataFrame'>\n",
      "RangeIndex: 8 entries, 0 to 7\n",
      "Data columns (total 2 columns):\n",
      "rating_type    8 non-null object\n",
      "decryption     8 non-null object\n",
      "dtypes: object(2)\n",
      "memory usage: 256.0+ bytes\n"
     ]
    },
    {
     "data": {
      "text/html": [
       "<div>\n",
       "<style scoped>\n",
       "    .dataframe tbody tr th:only-of-type {\n",
       "        vertical-align: middle;\n",
       "    }\n",
       "\n",
       "    .dataframe tbody tr th {\n",
       "        vertical-align: top;\n",
       "    }\n",
       "\n",
       "    .dataframe thead th {\n",
       "        text-align: right;\n",
       "    }\n",
       "</style>\n",
       "<table border=\"1\" class=\"dataframe\">\n",
       "  <thead>\n",
       "    <tr style=\"text-align: right;\">\n",
       "      <th></th>\n",
       "      <th>rating_type</th>\n",
       "      <th>decryption</th>\n",
       "    </tr>\n",
       "  </thead>\n",
       "  <tbody>\n",
       "    <tr>\n",
       "      <td>0</td>\n",
       "      <td>E</td>\n",
       "      <td>Для всех</td>\n",
       "    </tr>\n",
       "    <tr>\n",
       "      <td>1</td>\n",
       "      <td>M</td>\n",
       "      <td>От 17 лет</td>\n",
       "    </tr>\n",
       "    <tr>\n",
       "      <td>2</td>\n",
       "      <td>T</td>\n",
       "      <td>Подросткам 13—19 лет</td>\n",
       "    </tr>\n",
       "    <tr>\n",
       "      <td>3</td>\n",
       "      <td>E10+</td>\n",
       "      <td>Для всех старше 10 лет</td>\n",
       "    </tr>\n",
       "    <tr>\n",
       "      <td>4</td>\n",
       "      <td>K-A</td>\n",
       "      <td>Для всех(до 1998 года)</td>\n",
       "    </tr>\n",
       "    <tr>\n",
       "      <td>5</td>\n",
       "      <td>AO</td>\n",
       "      <td>Только для взрослых</td>\n",
       "    </tr>\n",
       "    <tr>\n",
       "      <td>6</td>\n",
       "      <td>EC</td>\n",
       "      <td>Для детей младшего возраста</td>\n",
       "    </tr>\n",
       "    <tr>\n",
       "      <td>7</td>\n",
       "      <td>RP</td>\n",
       "      <td>Рейтинг ожидается</td>\n",
       "    </tr>\n",
       "  </tbody>\n",
       "</table>\n",
       "</div>"
      ],
      "text/plain": [
       "  rating_type                   decryption\n",
       "0           E                     Для всех\n",
       "1           M                    От 17 лет\n",
       "2           T         Подросткам 13—19 лет\n",
       "3        E10+       Для всех старше 10 лет\n",
       "4         K-A       Для всех(до 1998 года)\n",
       "5          AO          Только для взрослых\n",
       "6          EC  Для детей младшего возраста\n",
       "7          RP            Рейтинг ожидается"
      ]
     },
     "execution_count": 4,
     "metadata": {},
     "output_type": "execute_result"
    }
   ],
   "source": [
    "#del rating['Unnamed: 0']\n",
    "rating.info()\n",
    "rating"
   ]
  },
  {
   "cell_type": "code",
   "execution_count": 5,
   "metadata": {},
   "outputs": [],
   "source": [
    "data = pd.read_csv('/datasets/games_data.csv')"
   ]
  },
  {
   "cell_type": "code",
   "execution_count": 6,
   "metadata": {},
   "outputs": [],
   "source": [
    "#del data['Unnamed: 0']"
   ]
  },
  {
   "cell_type": "code",
   "execution_count": 7,
   "metadata": {},
   "outputs": [
    {
     "name": "stdout",
     "output_type": "stream",
     "text": [
      "<class 'pandas.core.frame.DataFrame'>\n",
      "RangeIndex: 4026 entries, 0 to 4025\n",
      "Data columns (total 9 columns):\n",
      "platform        4026 non-null object\n",
      "sales_year      4026 non-null float64\n",
      "genre           4026 non-null object\n",
      "online          4026 non-null float64\n",
      "offline         4026 non-null float64\n",
      "critic_score    1812 non-null float64\n",
      "user_score      2382 non-null object\n",
      "rating          2315 non-null object\n",
      "game_id         4026 non-null int64\n",
      "dtypes: float64(4), int64(1), object(4)\n",
      "memory usage: 283.2+ KB\n"
     ]
    },
    {
     "data": {
      "text/html": [
       "<div>\n",
       "<style scoped>\n",
       "    .dataframe tbody tr th:only-of-type {\n",
       "        vertical-align: middle;\n",
       "    }\n",
       "\n",
       "    .dataframe tbody tr th {\n",
       "        vertical-align: top;\n",
       "    }\n",
       "\n",
       "    .dataframe thead th {\n",
       "        text-align: right;\n",
       "    }\n",
       "</style>\n",
       "<table border=\"1\" class=\"dataframe\">\n",
       "  <thead>\n",
       "    <tr style=\"text-align: right;\">\n",
       "      <th></th>\n",
       "      <th>platform</th>\n",
       "      <th>sales_year</th>\n",
       "      <th>genre</th>\n",
       "      <th>online</th>\n",
       "      <th>offline</th>\n",
       "      <th>critic_score</th>\n",
       "      <th>user_score</th>\n",
       "      <th>rating</th>\n",
       "      <th>game_id</th>\n",
       "    </tr>\n",
       "  </thead>\n",
       "  <tbody>\n",
       "    <tr>\n",
       "      <td>0</td>\n",
       "      <td>PS3</td>\n",
       "      <td>2017.0</td>\n",
       "      <td>Action</td>\n",
       "      <td>702.0</td>\n",
       "      <td>909.0</td>\n",
       "      <td>97.0</td>\n",
       "      <td>8.2</td>\n",
       "      <td>M</td>\n",
       "      <td>20838</td>\n",
       "    </tr>\n",
       "    <tr>\n",
       "      <td>1</td>\n",
       "      <td>X360</td>\n",
       "      <td>2017.0</td>\n",
       "      <td>Action</td>\n",
       "      <td>966.0</td>\n",
       "      <td>514.0</td>\n",
       "      <td>97.0</td>\n",
       "      <td>8.1</td>\n",
       "      <td>M</td>\n",
       "      <td>48673</td>\n",
       "    </tr>\n",
       "    <tr>\n",
       "      <td>2</td>\n",
       "      <td>X360</td>\n",
       "      <td>2017.0</td>\n",
       "      <td>Shooter</td>\n",
       "      <td>904.0</td>\n",
       "      <td>424.0</td>\n",
       "      <td>88.0</td>\n",
       "      <td>3.4</td>\n",
       "      <td>M</td>\n",
       "      <td>17801</td>\n",
       "    </tr>\n",
       "    <tr>\n",
       "      <td>3</td>\n",
       "      <td>PS4</td>\n",
       "      <td>2015.0</td>\n",
       "      <td>Shooter</td>\n",
       "      <td>603.0</td>\n",
       "      <td>586.0</td>\n",
       "      <td>NaN</td>\n",
       "      <td>NaN</td>\n",
       "      <td>NaN</td>\n",
       "      <td>12200</td>\n",
       "    </tr>\n",
       "    <tr>\n",
       "      <td>4</td>\n",
       "      <td>3DS</td>\n",
       "      <td>2017.0</td>\n",
       "      <td>Role-Playing</td>\n",
       "      <td>528.0</td>\n",
       "      <td>419.0</td>\n",
       "      <td>NaN</td>\n",
       "      <td>NaN</td>\n",
       "      <td>NaN</td>\n",
       "      <td>11432</td>\n",
       "    </tr>\n",
       "  </tbody>\n",
       "</table>\n",
       "</div>"
      ],
      "text/plain": [
       "  platform  sales_year         genre  online  offline  critic_score  \\\n",
       "0      PS3      2017.0        Action   702.0    909.0          97.0   \n",
       "1     X360      2017.0        Action   966.0    514.0          97.0   \n",
       "2     X360      2017.0       Shooter   904.0    424.0          88.0   \n",
       "3      PS4      2015.0       Shooter   603.0    586.0           NaN   \n",
       "4      3DS      2017.0  Role-Playing   528.0    419.0           NaN   \n",
       "\n",
       "  user_score rating  game_id  \n",
       "0        8.2      M    20838  \n",
       "1        8.1      M    48673  \n",
       "2        3.4      M    17801  \n",
       "3        NaN    NaN    12200  \n",
       "4        NaN    NaN    11432  "
      ]
     },
     "execution_count": 7,
     "metadata": {},
     "output_type": "execute_result"
    }
   ],
   "source": [
    "data.info()\n",
    "data.head()"
   ]
  },
  {
   "cell_type": "code",
   "execution_count": 8,
   "metadata": {},
   "outputs": [
    {
     "data": {
      "text/plain": [
       "0"
      ]
     },
     "execution_count": 8,
     "metadata": {},
     "output_type": "execute_result"
    }
   ],
   "source": [
    "data.duplicated().sum()"
   ]
  },
  {
   "cell_type": "code",
   "execution_count": 9,
   "metadata": {},
   "outputs": [
    {
     "data": {
      "text/plain": [
       "PS3     708\n",
       "3DS     512\n",
       "X360    498\n",
       "PSV     431\n",
       "PS4     393\n",
       "PC      389\n",
       "PSP     312\n",
       "XOne    247\n",
       "Wii     197\n",
       "DS      185\n",
       "WiiU    147\n",
       "PS2       7\n",
       "Name: platform, dtype: int64"
      ]
     },
     "execution_count": 9,
     "metadata": {},
     "output_type": "execute_result"
    }
   ],
   "source": [
    "data['platform'].value_counts()"
   ]
  },
  {
   "cell_type": "code",
   "execution_count": 10,
   "metadata": {},
   "outputs": [],
   "source": [
    "data['sales_year'] = data['sales_year'].astype('int')"
   ]
  },
  {
   "cell_type": "code",
   "execution_count": 11,
   "metadata": {},
   "outputs": [
    {
     "data": {
      "text/plain": [
       "Action          1270\n",
       "Role-Playing     467\n",
       "Adventure        410\n",
       "Sports           389\n",
       "Misc             375\n",
       "Shooter          329\n",
       "Racing           180\n",
       "Fighting         159\n",
       "Simulation       137\n",
       "Platform         122\n",
       "Strategy         117\n",
       "Puzzle            71\n",
       "Name: genre, dtype: int64"
      ]
     },
     "execution_count": 11,
     "metadata": {},
     "output_type": "execute_result"
    }
   ],
   "source": [
    "data['genre'].value_counts()"
   ]
  },
  {
   "cell_type": "code",
   "execution_count": 12,
   "metadata": {},
   "outputs": [],
   "source": [
    "data['online'] = data['online'].astype('int')"
   ]
  },
  {
   "cell_type": "code",
   "execution_count": 13,
   "metadata": {},
   "outputs": [],
   "source": [
    "data['offline'] = data['offline'].astype('int')"
   ]
  },
  {
   "cell_type": "code",
   "execution_count": 14,
   "metadata": {},
   "outputs": [],
   "source": [
    "data['total_sales'] = data['online'] + data['offline']"
   ]
  },
  {
   "cell_type": "code",
   "execution_count": 15,
   "metadata": {},
   "outputs": [
    {
     "data": {
      "text/plain": [
       "13.0"
      ]
     },
     "execution_count": 15,
     "metadata": {},
     "output_type": "execute_result"
    }
   ],
   "source": [
    "data['critic_score'].min()"
   ]
  },
  {
   "cell_type": "code",
   "execution_count": 16,
   "metadata": {},
   "outputs": [
    {
     "data": {
      "text/plain": [
       "array(['8.2', '8.1', '3.4', nan, '5.3', '4.8', '3.2', '8.3', '8.4', '2.6',\n",
       "       '7.8', '7.2', '7', '8.7', '4.3', '6.6', '5.7', '5', '7.4', '7.5',\n",
       "       '6.5', '9.1', '7.3', '6.9', '6.4', '6.1', '8.6', '7.9', '6.7',\n",
       "       '5.4', '4', '8.5', '9', '4.9', '4.5', '6.2', '4.2', '6.3', '7.7',\n",
       "       '9.2', '7.6', '8', '3.7', '4.1', '5.8', '5.6', '6.8', '5.5', '4.4',\n",
       "       '5.9', '8.9', '3.9', 'tbd', '3.1', '2.9', '6', '4.7', '7.1', '8.8',\n",
       "       '5.1', '3.5', '2.5', '3', '2.7', '2.2', '5.2', '1.8', '3.8', '3.3',\n",
       "       '4.6', '9.3', '1.6', '3.6', '2.4', '2.8', '1.7', '2.1', '2', '1.5',\n",
       "       '0.7', '0.2', '1.2', '0.9', '1.9', '1.3', '1', '1.4', '2.3'],\n",
       "      dtype=object)"
      ]
     },
     "execution_count": 16,
     "metadata": {},
     "output_type": "execute_result"
    }
   ],
   "source": [
    "data['user_score'].unique()"
   ]
  },
  {
   "cell_type": "markdown",
   "metadata": {},
   "source": [
    "Рейтинг пользователей, в отличие от рейтинга критиков, представлен строкой. Для удобства работы его следует преобразовать в float. \"TBD\" означает, что рейтинг будет сформирован позднее, то есть сейчас его нет, так что вполне логично заменить его на NaN."
   ]
  },
  {
   "cell_type": "code",
   "execution_count": 17,
   "metadata": {},
   "outputs": [],
   "source": [
    "data['user_score'] = pd.to_numeric(data['user_score'], errors='coerce')"
   ]
  },
  {
   "cell_type": "code",
   "execution_count": 18,
   "metadata": {},
   "outputs": [
    {
     "data": {
      "text/plain": [
       "0.2"
      ]
     },
     "execution_count": 18,
     "metadata": {},
     "output_type": "execute_result"
    }
   ],
   "source": [
    "data['user_score'].min()"
   ]
  },
  {
   "cell_type": "code",
   "execution_count": 19,
   "metadata": {},
   "outputs": [
    {
     "data": {
      "text/html": [
       "<div>\n",
       "<style scoped>\n",
       "    .dataframe tbody tr th:only-of-type {\n",
       "        vertical-align: middle;\n",
       "    }\n",
       "\n",
       "    .dataframe tbody tr th {\n",
       "        vertical-align: top;\n",
       "    }\n",
       "\n",
       "    .dataframe thead th {\n",
       "        text-align: right;\n",
       "    }\n",
       "</style>\n",
       "<table border=\"1\" class=\"dataframe\">\n",
       "  <thead>\n",
       "    <tr style=\"text-align: right;\">\n",
       "      <th></th>\n",
       "      <th>platform</th>\n",
       "      <th>sales_year</th>\n",
       "      <th>genre</th>\n",
       "      <th>online</th>\n",
       "      <th>offline</th>\n",
       "      <th>critic_score</th>\n",
       "      <th>user_score</th>\n",
       "      <th>rating</th>\n",
       "      <th>game_id</th>\n",
       "      <th>total_sales</th>\n",
       "    </tr>\n",
       "  </thead>\n",
       "  <tbody>\n",
       "    <tr>\n",
       "      <td>3</td>\n",
       "      <td>PS4</td>\n",
       "      <td>2015</td>\n",
       "      <td>Shooter</td>\n",
       "      <td>603</td>\n",
       "      <td>586</td>\n",
       "      <td>NaN</td>\n",
       "      <td>NaN</td>\n",
       "      <td>NaN</td>\n",
       "      <td>12200</td>\n",
       "      <td>1189</td>\n",
       "    </tr>\n",
       "    <tr>\n",
       "      <td>4</td>\n",
       "      <td>3DS</td>\n",
       "      <td>2017</td>\n",
       "      <td>Role-Playing</td>\n",
       "      <td>528</td>\n",
       "      <td>419</td>\n",
       "      <td>NaN</td>\n",
       "      <td>NaN</td>\n",
       "      <td>NaN</td>\n",
       "      <td>11432</td>\n",
       "      <td>947</td>\n",
       "    </tr>\n",
       "    <tr>\n",
       "      <td>10</td>\n",
       "      <td>3DS</td>\n",
       "      <td>2018</td>\n",
       "      <td>Role-Playing</td>\n",
       "      <td>435</td>\n",
       "      <td>349</td>\n",
       "      <td>NaN</td>\n",
       "      <td>NaN</td>\n",
       "      <td>NaN</td>\n",
       "      <td>32194</td>\n",
       "      <td>784</td>\n",
       "    </tr>\n",
       "    <tr>\n",
       "      <td>17</td>\n",
       "      <td>X360</td>\n",
       "      <td>2017</td>\n",
       "      <td>Misc</td>\n",
       "      <td>570</td>\n",
       "      <td>265</td>\n",
       "      <td>NaN</td>\n",
       "      <td>NaN</td>\n",
       "      <td>NaN</td>\n",
       "      <td>19166</td>\n",
       "      <td>835</td>\n",
       "    </tr>\n",
       "    <tr>\n",
       "      <td>22</td>\n",
       "      <td>DS</td>\n",
       "      <td>2018</td>\n",
       "      <td>Role-Playing</td>\n",
       "      <td>279</td>\n",
       "      <td>172</td>\n",
       "      <td>NaN</td>\n",
       "      <td>NaN</td>\n",
       "      <td>NaN</td>\n",
       "      <td>19252</td>\n",
       "      <td>451</td>\n",
       "    </tr>\n",
       "  </tbody>\n",
       "</table>\n",
       "</div>"
      ],
      "text/plain": [
       "   platform  sales_year         genre  online  offline  critic_score  \\\n",
       "3       PS4        2015       Shooter     603      586           NaN   \n",
       "4       3DS        2017  Role-Playing     528      419           NaN   \n",
       "10      3DS        2018  Role-Playing     435      349           NaN   \n",
       "17     X360        2017          Misc     570      265           NaN   \n",
       "22       DS        2018  Role-Playing     279      172           NaN   \n",
       "\n",
       "    user_score rating  game_id  total_sales  \n",
       "3          NaN    NaN    12200         1189  \n",
       "4          NaN    NaN    11432          947  \n",
       "10         NaN    NaN    32194          784  \n",
       "17         NaN    NaN    19166          835  \n",
       "22         NaN    NaN    19252          451  "
      ]
     },
     "execution_count": 19,
     "metadata": {},
     "output_type": "execute_result"
    }
   ],
   "source": [
    "data.query('critic_score == \"NaN\" and user_score == \"NaN\"').head()"
   ]
  },
  {
   "cell_type": "markdown",
   "metadata": {},
   "source": [
    "В таблице около 2 тысяч записей (почти половина) без оценок пользователей и критиков, но мы видим, что некоторые из этих игр были проданы, так что не будем исключать их из анализа."
   ]
  },
  {
   "cell_type": "code",
   "execution_count": 20,
   "metadata": {},
   "outputs": [
    {
     "data": {
      "text/plain": [
       "NaN     1711\n",
       "M        622\n",
       "E        619\n",
       "T        616\n",
       "E10+     456\n",
       "EC         1\n",
       "RP         1\n",
       "Name: rating, dtype: int64"
      ]
     },
     "execution_count": 20,
     "metadata": {},
     "output_type": "execute_result"
    }
   ],
   "source": [
    "data['rating'].value_counts(dropna=False)"
   ]
  },
  {
   "cell_type": "code",
   "execution_count": 21,
   "metadata": {},
   "outputs": [
    {
     "data": {
      "text/html": [
       "<div>\n",
       "<style scoped>\n",
       "    .dataframe tbody tr th:only-of-type {\n",
       "        vertical-align: middle;\n",
       "    }\n",
       "\n",
       "    .dataframe tbody tr th {\n",
       "        vertical-align: top;\n",
       "    }\n",
       "\n",
       "    .dataframe thead th {\n",
       "        text-align: right;\n",
       "    }\n",
       "</style>\n",
       "<table border=\"1\" class=\"dataframe\">\n",
       "  <thead>\n",
       "    <tr style=\"text-align: right;\">\n",
       "      <th>rating</th>\n",
       "      <th>E</th>\n",
       "      <th>E10+</th>\n",
       "      <th>EC</th>\n",
       "      <th>M</th>\n",
       "      <th>RP</th>\n",
       "      <th>T</th>\n",
       "    </tr>\n",
       "    <tr>\n",
       "      <th>genre</th>\n",
       "      <th></th>\n",
       "      <th></th>\n",
       "      <th></th>\n",
       "      <th></th>\n",
       "      <th></th>\n",
       "      <th></th>\n",
       "    </tr>\n",
       "  </thead>\n",
       "  <tbody>\n",
       "    <tr>\n",
       "      <td>Action</td>\n",
       "      <td>90.0</td>\n",
       "      <td>188.0</td>\n",
       "      <td>1.0</td>\n",
       "      <td>255.0</td>\n",
       "      <td>NaN</td>\n",
       "      <td>191.0</td>\n",
       "    </tr>\n",
       "    <tr>\n",
       "      <td>Adventure</td>\n",
       "      <td>9.0</td>\n",
       "      <td>26.0</td>\n",
       "      <td>NaN</td>\n",
       "      <td>40.0</td>\n",
       "      <td>NaN</td>\n",
       "      <td>23.0</td>\n",
       "    </tr>\n",
       "    <tr>\n",
       "      <td>Fighting</td>\n",
       "      <td>NaN</td>\n",
       "      <td>5.0</td>\n",
       "      <td>NaN</td>\n",
       "      <td>17.0</td>\n",
       "      <td>NaN</td>\n",
       "      <td>87.0</td>\n",
       "    </tr>\n",
       "    <tr>\n",
       "      <td>Misc</td>\n",
       "      <td>71.0</td>\n",
       "      <td>75.0</td>\n",
       "      <td>NaN</td>\n",
       "      <td>5.0</td>\n",
       "      <td>NaN</td>\n",
       "      <td>43.0</td>\n",
       "    </tr>\n",
       "    <tr>\n",
       "      <td>Platform</td>\n",
       "      <td>45.0</td>\n",
       "      <td>51.0</td>\n",
       "      <td>NaN</td>\n",
       "      <td>NaN</td>\n",
       "      <td>NaN</td>\n",
       "      <td>6.0</td>\n",
       "    </tr>\n",
       "    <tr>\n",
       "      <td>Puzzle</td>\n",
       "      <td>30.0</td>\n",
       "      <td>10.0</td>\n",
       "      <td>NaN</td>\n",
       "      <td>NaN</td>\n",
       "      <td>NaN</td>\n",
       "      <td>2.0</td>\n",
       "    </tr>\n",
       "    <tr>\n",
       "      <td>Racing</td>\n",
       "      <td>94.0</td>\n",
       "      <td>21.0</td>\n",
       "      <td>NaN</td>\n",
       "      <td>3.0</td>\n",
       "      <td>NaN</td>\n",
       "      <td>18.0</td>\n",
       "    </tr>\n",
       "    <tr>\n",
       "      <td>Role-Playing</td>\n",
       "      <td>5.0</td>\n",
       "      <td>17.0</td>\n",
       "      <td>NaN</td>\n",
       "      <td>81.0</td>\n",
       "      <td>NaN</td>\n",
       "      <td>108.0</td>\n",
       "    </tr>\n",
       "    <tr>\n",
       "      <td>Shooter</td>\n",
       "      <td>1.0</td>\n",
       "      <td>25.0</td>\n",
       "      <td>NaN</td>\n",
       "      <td>212.0</td>\n",
       "      <td>NaN</td>\n",
       "      <td>44.0</td>\n",
       "    </tr>\n",
       "    <tr>\n",
       "      <td>Simulation</td>\n",
       "      <td>35.0</td>\n",
       "      <td>6.0</td>\n",
       "      <td>NaN</td>\n",
       "      <td>2.0</td>\n",
       "      <td>NaN</td>\n",
       "      <td>34.0</td>\n",
       "    </tr>\n",
       "    <tr>\n",
       "      <td>Sports</td>\n",
       "      <td>229.0</td>\n",
       "      <td>21.0</td>\n",
       "      <td>NaN</td>\n",
       "      <td>NaN</td>\n",
       "      <td>NaN</td>\n",
       "      <td>37.0</td>\n",
       "    </tr>\n",
       "    <tr>\n",
       "      <td>Strategy</td>\n",
       "      <td>10.0</td>\n",
       "      <td>11.0</td>\n",
       "      <td>NaN</td>\n",
       "      <td>7.0</td>\n",
       "      <td>1.0</td>\n",
       "      <td>23.0</td>\n",
       "    </tr>\n",
       "  </tbody>\n",
       "</table>\n",
       "</div>"
      ],
      "text/plain": [
       "rating            E   E10+   EC      M   RP      T\n",
       "genre                                             \n",
       "Action         90.0  188.0  1.0  255.0  NaN  191.0\n",
       "Adventure       9.0   26.0  NaN   40.0  NaN   23.0\n",
       "Fighting        NaN    5.0  NaN   17.0  NaN   87.0\n",
       "Misc           71.0   75.0  NaN    5.0  NaN   43.0\n",
       "Platform       45.0   51.0  NaN    NaN  NaN    6.0\n",
       "Puzzle         30.0   10.0  NaN    NaN  NaN    2.0\n",
       "Racing         94.0   21.0  NaN    3.0  NaN   18.0\n",
       "Role-Playing    5.0   17.0  NaN   81.0  NaN  108.0\n",
       "Shooter         1.0   25.0  NaN  212.0  NaN   44.0\n",
       "Simulation     35.0    6.0  NaN    2.0  NaN   34.0\n",
       "Sports        229.0   21.0  NaN    NaN  NaN   37.0\n",
       "Strategy       10.0   11.0  NaN    7.0  1.0   23.0"
      ]
     },
     "execution_count": 21,
     "metadata": {},
     "output_type": "execute_result"
    }
   ],
   "source": [
    "data.pivot_table(index='genre', columns='rating', values='game_id', aggfunc='count')"
   ]
  },
  {
   "cell_type": "markdown",
   "metadata": {},
   "source": [
    "В столбце \"рейтинг\" тоже много пропусков, более 40%. Создав сводную таблицу по жанрам я надеялась отследить жанры, для которых может быть только один рейтинг, чтобы присвоить этот рейтинг другим играм того же жанра, но сводная таблица не позволяет сделать таких выводов."
   ]
  },
  {
   "cell_type": "markdown",
   "metadata": {},
   "source": [
    "### Проблема повторяющихся игр\n",
    "Есть ряд игр, которые повторяются в разные годы, причем у них могут быть одинаковые или разные платформы, год выпуска, жанр и рейтинг.\n",
    "\n",
    "Я предполагаю, что _игры могут выпускаться для разных платформ_, допускаю, что _одной и той же игре может быть присвоен разный жанр_ (так как это не четкая категории), но полагаю, что __если для игры совпадает год продаж и платформа, то это ошибка в данных__, и такие строки стоит удалить, причем обе, так как выбрать между двумя строками затруднительно."
   ]
  },
  {
   "cell_type": "code",
   "execution_count": 22,
   "metadata": {},
   "outputs": [],
   "source": [
    "data = data.drop_duplicates(subset=['platform', 'sales_year', 'game_id'], keep=False).reset_index(drop=True)"
   ]
  },
  {
   "cell_type": "code",
   "execution_count": 23,
   "metadata": {},
   "outputs": [
    {
     "name": "stdout",
     "output_type": "stream",
     "text": [
      "<class 'pandas.core.frame.DataFrame'>\n",
      "RangeIndex: 4010 entries, 0 to 4009\n",
      "Data columns (total 10 columns):\n",
      "platform        4010 non-null object\n",
      "sales_year      4010 non-null int64\n",
      "genre           4010 non-null object\n",
      "online          4010 non-null int64\n",
      "offline         4010 non-null int64\n",
      "critic_score    1804 non-null float64\n",
      "user_score      2022 non-null float64\n",
      "rating          2305 non-null object\n",
      "game_id         4010 non-null int64\n",
      "total_sales     4010 non-null int64\n",
      "dtypes: float64(2), int64(5), object(3)\n",
      "memory usage: 313.4+ KB\n"
     ]
    }
   ],
   "source": [
    "data.info()"
   ]
  },
  {
   "cell_type": "markdown",
   "metadata": {},
   "source": [
    "Также __выглядят подозрительно игры с разным рейтингом ESRB__, их я тоже считаю нужным удалить, так как невозможно определить, какой рейтинг верный. Для этого я посмотрю, какие игры повторяются:"
   ]
  },
  {
   "cell_type": "code",
   "execution_count": 24,
   "metadata": {},
   "outputs": [],
   "source": [
    "repeated = data['game_id'].value_counts().reset_index()"
   ]
  },
  {
   "cell_type": "code",
   "execution_count": 25,
   "metadata": {},
   "outputs": [],
   "source": [
    "repeated.columns = ['game_id', 'qty']"
   ]
  },
  {
   "cell_type": "code",
   "execution_count": 26,
   "metadata": {},
   "outputs": [],
   "source": [
    "data = data.merge(repeated, on='game_id', how='left')"
   ]
  },
  {
   "cell_type": "markdown",
   "metadata": {},
   "source": [
    "Далее я обработаю рейтинги повторяющихся игр: удалю пустые значения и проверю, у скольких игр есть более одного рейтинга:"
   ]
  },
  {
   "cell_type": "code",
   "execution_count": 27,
   "metadata": {},
   "outputs": [],
   "source": [
    "game_rating = data[data['qty'] > 1].loc[:, ['rating', 'game_id']]"
   ]
  },
  {
   "cell_type": "code",
   "execution_count": 28,
   "metadata": {},
   "outputs": [],
   "source": [
    "game_rating = game_rating.dropna() "
   ]
  },
  {
   "cell_type": "code",
   "execution_count": 29,
   "metadata": {},
   "outputs": [],
   "source": [
    "rating_false = game_rating['game_id'].value_counts().reset_index() #у каких игр более одного рейтинга"
   ]
  },
  {
   "cell_type": "code",
   "execution_count": 30,
   "metadata": {},
   "outputs": [],
   "source": [
    "rating_false.columns = ['game_id', 'repeated']"
   ]
  },
  {
   "cell_type": "code",
   "execution_count": 31,
   "metadata": {},
   "outputs": [],
   "source": [
    "game_rating = game_rating.merge(rating_false, on='game_id', how='left') \n",
    "#добавленный столбец указывает, у каких игр более одного рейтинга"
   ]
  },
  {
   "cell_type": "code",
   "execution_count": 32,
   "metadata": {},
   "outputs": [
    {
     "name": "stdout",
     "output_type": "stream",
     "text": [
      "<class 'pandas.core.frame.DataFrame'>\n",
      "Int64Index: 151 entries, 0 to 212\n",
      "Data columns (total 3 columns):\n",
      "true_rating    151 non-null object\n",
      "game_id        151 non-null int64\n",
      "repeated       151 non-null int64\n",
      "dtypes: int64(2), object(1)\n",
      "memory usage: 4.7+ KB\n"
     ]
    }
   ],
   "source": [
    "game_rating = game_rating.rename(columns={'rating':'true_rating'})\n",
    "game_rating = game_rating.drop_duplicates(subset='game_id') \n",
    "#удаляем повторяющиеся игры, потому что затем мы добавим эти данные в основную таблицу\n",
    "#нам нужны будут только уникальные id игр для слияния. Столбец repeated укажет на наличие более одного рейтинга\n",
    "game_rating.info()"
   ]
  },
  {
   "cell_type": "code",
   "execution_count": 33,
   "metadata": {},
   "outputs": [],
   "source": [
    "data = data.merge(game_rating, on='game_id', how='left')\n",
    "data['repeated'] = data['repeated'].fillna(0)"
   ]
  },
  {
   "cell_type": "code",
   "execution_count": 34,
   "metadata": {},
   "outputs": [],
   "source": [
    "data = data[data['repeated'] < 2] #удаляем игры, у которых более одного рейтинга"
   ]
  },
  {
   "cell_type": "code",
   "execution_count": 35,
   "metadata": {},
   "outputs": [
    {
     "name": "stdout",
     "output_type": "stream",
     "text": [
      "<class 'pandas.core.frame.DataFrame'>\n",
      "Int64Index: 3887 entries, 0 to 4009\n",
      "Data columns (total 13 columns):\n",
      "platform        3887 non-null object\n",
      "sales_year      3887 non-null int64\n",
      "genre           3887 non-null object\n",
      "online          3887 non-null int64\n",
      "offline         3887 non-null int64\n",
      "critic_score    1711 non-null float64\n",
      "user_score      1915 non-null float64\n",
      "rating          2182 non-null object\n",
      "game_id         3887 non-null int64\n",
      "total_sales     3887 non-null int64\n",
      "qty             3887 non-null int64\n",
      "true_rating     182 non-null object\n",
      "repeated        3887 non-null float64\n",
      "dtypes: float64(3), int64(6), object(4)\n",
      "memory usage: 425.1+ KB\n"
     ]
    }
   ],
   "source": [
    "data.info()"
   ]
  },
  {
   "cell_type": "code",
   "execution_count": 36,
   "metadata": {},
   "outputs": [],
   "source": [
    "data['rating'] = data['rating'].fillna(data['true_rating'])\n",
    "#заполняем рейтинг игр, которые представляены более чем одной строкой, \n",
    "#причем в одной из них есть рейтинг, а в другой / других - пустые значения"
   ]
  },
  {
   "cell_type": "code",
   "execution_count": 37,
   "metadata": {},
   "outputs": [],
   "source": [
    "data.drop(['qty', 'true_rating', 'repeated'], axis='columns', inplace=True)"
   ]
  },
  {
   "cell_type": "markdown",
   "metadata": {},
   "source": [
    "# Исследовательский анализ данных"
   ]
  },
  {
   "cell_type": "markdown",
   "metadata": {},
   "source": [
    "###  Распределение количества игр по годам продажи"
   ]
  },
  {
   "cell_type": "code",
   "execution_count": 38,
   "metadata": {},
   "outputs": [],
   "source": [
    "games_x_year = data.groupby('sales_year', as_index=False).agg({'game_id':'count'})"
   ]
  },
  {
   "cell_type": "code",
   "execution_count": 39,
   "metadata": {},
   "outputs": [
    {
     "data": {
      "text/html": [
       "<div>\n",
       "<style scoped>\n",
       "    .dataframe tbody tr th:only-of-type {\n",
       "        vertical-align: middle;\n",
       "    }\n",
       "\n",
       "    .dataframe tbody tr th {\n",
       "        vertical-align: top;\n",
       "    }\n",
       "\n",
       "    .dataframe thead th {\n",
       "        text-align: right;\n",
       "    }\n",
       "</style>\n",
       "<table border=\"1\" class=\"dataframe\">\n",
       "  <thead>\n",
       "    <tr style=\"text-align: right;\">\n",
       "      <th></th>\n",
       "      <th>sales_year</th>\n",
       "      <th>game_id</th>\n",
       "    </tr>\n",
       "  </thead>\n",
       "  <tbody>\n",
       "    <tr>\n",
       "      <td>0</td>\n",
       "      <td>2015</td>\n",
       "      <td>583</td>\n",
       "    </tr>\n",
       "    <tr>\n",
       "      <td>1</td>\n",
       "      <td>2016</td>\n",
       "      <td>489</td>\n",
       "    </tr>\n",
       "    <tr>\n",
       "      <td>2</td>\n",
       "      <td>2017</td>\n",
       "      <td>1629</td>\n",
       "    </tr>\n",
       "    <tr>\n",
       "      <td>3</td>\n",
       "      <td>2018</td>\n",
       "      <td>1186</td>\n",
       "    </tr>\n",
       "  </tbody>\n",
       "</table>\n",
       "</div>"
      ],
      "text/plain": [
       "   sales_year  game_id\n",
       "0        2015      583\n",
       "1        2016      489\n",
       "2        2017     1629\n",
       "3        2018     1186"
      ]
     },
     "execution_count": 39,
     "metadata": {},
     "output_type": "execute_result"
    }
   ],
   "source": [
    "games_x_year"
   ]
  },
  {
   "cell_type": "code",
   "execution_count": 40,
   "metadata": {},
   "outputs": [
    {
     "data": {
      "text/plain": [
       "<function matplotlib.pyplot.show(*args, **kw)>"
      ]
     },
     "execution_count": 40,
     "metadata": {},
     "output_type": "execute_result"
    },
    {
     "data": {
      "image/png": "[encoded data removed]",
      "text/plain": [
       "<Figure size 720x360 with 1 Axes>"
      ]
     },
     "metadata": {
      "needs_background": "light"
     },
     "output_type": "display_data"
    }
   ],
   "source": [
    "games_x_year.plot(x='sales_year', y='game_id', kind='bar', figsize=(10,5), grid=True, title='Количество игр в продаже по годам')\n",
    "plt.xlabel('Год')\n",
    "plt.ylabel('Кол-во игр')\n",
    "plt.show"
   ]
  },
  {
   "cell_type": "markdown",
   "metadata": {},
   "source": [
    "Мы видим, что количество игр в продаже выросло в два раза с 2015-го по 2018-й год, но рост происходил неравномерно: он снизился примерно на 16% в 2016-м году, затем вырос более чем в три раза (все время сравниваем с предыдущим годом), а затем опять снизился на 27%."
   ]
  },
  {
   "cell_type": "markdown",
   "metadata": {},
   "source": [
    "### Продажи игр с отзывами / без отзывов"
   ]
  },
  {
   "cell_type": "code",
   "execution_count": 41,
   "metadata": {},
   "outputs": [],
   "source": [
    "data['score'] = 'есть_отзывы'"
   ]
  },
  {
   "cell_type": "code",
   "execution_count": 42,
   "metadata": {},
   "outputs": [],
   "source": [
    "data.loc[data['user_score'].isnull() & data['critic_score'].isnull(), 'score'] = 'нет_отзывов'"
   ]
  },
  {
   "cell_type": "code",
   "execution_count": 43,
   "metadata": {},
   "outputs": [],
   "source": [
    "scores_years = data.pivot_table(\n",
    "    index='sales_year', columns='score', values='game_id', aggfunc='count')"
   ]
  },
  {
   "cell_type": "code",
   "execution_count": 44,
   "metadata": {},
   "outputs": [],
   "source": [
    "scores_years.columns = ['есть_отзывы', 'нет_отзывов']"
   ]
  },
  {
   "cell_type": "code",
   "execution_count": 45,
   "metadata": {},
   "outputs": [
    {
     "data": {
      "text/plain": [
       "Text(0, 0.5, 'Продажи, 100 тыс.')"
      ]
     },
     "execution_count": 45,
     "metadata": {},
     "output_type": "execute_result"
    },
    {
     "data": {
      "image/png": "[encoded data removed]",
      "text/plain": [
       "<Figure size 720x360 with 1 Axes>"
      ]
     },
     "metadata": {
      "needs_background": "light"
     },
     "output_type": "display_data"
    }
   ],
   "source": [
    "scores_years.plot(kind='bar', figsize=(10, 5), title='Продажи игр с отзывами / без отзывов')\n",
    "plt.xlabel('Год')\n",
    "plt.ylabel('Продажи, 100 тыс.')"
   ]
  },
  {
   "cell_type": "markdown",
   "metadata": {},
   "source": [
    "Мы видим, что наличие оценки не оказывают существенного влиянми на объем продаж игр, видимо, на успешность игры влияют другие факторы."
   ]
  },
  {
   "cell_type": "markdown",
   "metadata": {},
   "source": [
    "### График по суммам продаж каждого года"
   ]
  },
  {
   "cell_type": "code",
   "execution_count": 46,
   "metadata": {},
   "outputs": [],
   "source": [
    "data_years = data.groupby('sales_year', as_index=False).agg({'online':'sum', 'offline':'sum', 'total_sales':'sum'})"
   ]
  },
  {
   "cell_type": "code",
   "execution_count": 47,
   "metadata": {},
   "outputs": [],
   "source": [
    "data_years['online'] = data_years['online']/10\n",
    "data_years['offline'] = data_years['offline']/10\n",
    "data_years['total_sales'] = data_years['total_sales']/10"
   ]
  },
  {
   "cell_type": "code",
   "execution_count": 48,
   "metadata": {},
   "outputs": [
    {
     "data": {
      "text/html": [
       "<div>\n",
       "<style scoped>\n",
       "    .dataframe tbody tr th:only-of-type {\n",
       "        vertical-align: middle;\n",
       "    }\n",
       "\n",
       "    .dataframe tbody tr th {\n",
       "        vertical-align: top;\n",
       "    }\n",
       "\n",
       "    .dataframe thead th {\n",
       "        text-align: right;\n",
       "    }\n",
       "</style>\n",
       "<table border=\"1\" class=\"dataframe\">\n",
       "  <thead>\n",
       "    <tr style=\"text-align: right;\">\n",
       "      <th></th>\n",
       "      <th>sales_year</th>\n",
       "      <th>online</th>\n",
       "      <th>offline</th>\n",
       "      <th>total_sales</th>\n",
       "    </tr>\n",
       "  </thead>\n",
       "  <tbody>\n",
       "    <tr>\n",
       "      <td>0</td>\n",
       "      <td>2015</td>\n",
       "      <td>975.8</td>\n",
       "      <td>911.0</td>\n",
       "      <td>1886.8</td>\n",
       "    </tr>\n",
       "    <tr>\n",
       "      <td>1</td>\n",
       "      <td>2016</td>\n",
       "      <td>430.5</td>\n",
       "      <td>487.8</td>\n",
       "      <td>918.3</td>\n",
       "    </tr>\n",
       "    <tr>\n",
       "      <td>2</td>\n",
       "      <td>2017</td>\n",
       "      <td>3791.2</td>\n",
       "      <td>2743.3</td>\n",
       "      <td>6534.5</td>\n",
       "    </tr>\n",
       "    <tr>\n",
       "      <td>3</td>\n",
       "      <td>2018</td>\n",
       "      <td>2701.7</td>\n",
       "      <td>2155.9</td>\n",
       "      <td>4857.6</td>\n",
       "    </tr>\n",
       "  </tbody>\n",
       "</table>\n",
       "</div>"
      ],
      "text/plain": [
       "   sales_year  online  offline  total_sales\n",
       "0        2015   975.8    911.0       1886.8\n",
       "1        2016   430.5    487.8        918.3\n",
       "2        2017  3791.2   2743.3       6534.5\n",
       "3        2018  2701.7   2155.9       4857.6"
      ]
     },
     "execution_count": 48,
     "metadata": {},
     "output_type": "execute_result"
    }
   ],
   "source": [
    "data_years"
   ]
  },
  {
   "cell_type": "code",
   "execution_count": 49,
   "metadata": {},
   "outputs": [
    {
     "data": {
      "image/png": "[encoded data removed]",
      "text/plain": [
       "<Figure size 576x360 with 1 Axes>"
      ]
     },
     "metadata": {
      "needs_background": "light"
     },
     "output_type": "display_data"
    }
   ],
   "source": [
    "N = 4\n",
    "ind = np.arange(N) \n",
    "width = 0.4      \n",
    "\n",
    "plt.figure(figsize=(8,5))\n",
    "p1 = plt.bar(ind, data_years['online'], width)\n",
    "p2 = plt.bar(ind, data_years['offline'], width,\n",
    "             bottom = data_years['online'])\n",
    "\n",
    "\n",
    "plt.ylabel('Продажи, млн. экземпляров')\n",
    "plt.title('Общие продажи')\n",
    "plt.grid(axis='y')\n",
    "plt.xticks(ind, ('2015', '2016', '2017', '2018'))\n",
    "plt.yticks(np.arange(0, 7000, 1000))\n",
    "plt.legend((p1[0], p2[0]), ('Онлайн', 'Офлайн'))\n",
    "\n",
    "plt.show()"
   ]
  },
  {
   "cell_type": "markdown",
   "metadata": {},
   "source": [
    "Исходя из графика рост продаж игр увеличился с 2015-го по 2018-й год (годы, по которым есть данные), но рост очень неровный, чередуется с падениями и, видимо, связан с количеством игр в продаже.\n",
    "\n",
    "\n",
    "Во все годы, кроме 2016-го, продажи игр онлайн превышали продажи офлайн."
   ]
  },
  {
   "cell_type": "markdown",
   "metadata": {},
   "source": [
    "### Диаграмма размаха по общим продажам игр"
   ]
  },
  {
   "cell_type": "code",
   "execution_count": 50,
   "metadata": {},
   "outputs": [],
   "source": [
    "game_id_sales = data.groupby('game_id', as_index=False).agg({'total_sales':'sum'})"
   ]
  },
  {
   "cell_type": "code",
   "execution_count": 51,
   "metadata": {},
   "outputs": [
    {
     "data": {
      "text/plain": [
       "3769"
      ]
     },
     "execution_count": 51,
     "metadata": {},
     "output_type": "execute_result"
    }
   ],
   "source": [
    "len(game_id_sales.index)"
   ]
  },
  {
   "cell_type": "code",
   "execution_count": 52,
   "metadata": {},
   "outputs": [
    {
     "data": {
      "text/plain": [
       "Text(0.5, 1.0, 'Диаграмма размаха продаж игр')"
      ]
     },
     "execution_count": 52,
     "metadata": {},
     "output_type": "execute_result"
    },
    {
     "data": {
      "image/png": "[encoded data removed]",
      "text/plain": [
       "<Figure size 432x288 with 1 Axes>"
      ]
     },
     "metadata": {
      "needs_background": "light"
     },
     "output_type": "display_data"
    }
   ],
   "source": [
    "plt.ylim(-10, 85)\n",
    "game_id_sales.boxplot('total_sales')\n",
    "plt.title('Диаграмма размаха продаж игр')"
   ]
  },
  {
   "cell_type": "code",
   "execution_count": 53,
   "metadata": {},
   "outputs": [
    {
     "data": {
      "text/plain": [
       "count    3769.00\n",
       "mean       37.67\n",
       "std       100.47\n",
       "min         0.00\n",
       "25%         0.00\n",
       "50%         8.00\n",
       "75%        31.00\n",
       "max      1611.00\n",
       "Name: total_sales, dtype: float64"
      ]
     },
     "execution_count": 53,
     "metadata": {},
     "output_type": "execute_result"
    }
   ],
   "source": [
    "game_id_sales['total_sales'].describe().round(2)"
   ]
  },
  {
   "cell_type": "markdown",
   "metadata": {},
   "source": [
    "Всего за рассматриваемые годы было продано 3769 игр. В среднем было продано 32 экземпляр каждой игры, но медиана списка значений составляет 8 продаж. Это не удивительно: продажи половины игр лежат в диапазоне от 0 до 8, 25% игр вообще не продавались ни разу. С другой стороны, величина продаж 16% игр превышают полтора межквартильных размах (77,5).\n",
    "\n",
    "\n",
    "Если же нас интересует распределение продаж только по играм, которые продавались хотя бы раз, имеет смысл исключить из анализа игры, которые не были проданы ни разу."
   ]
  },
  {
   "cell_type": "code",
   "execution_count": 54,
   "metadata": {},
   "outputs": [],
   "source": [
    "game_id_sales = game_id_sales.query('total_sales > 0')"
   ]
  },
  {
   "cell_type": "code",
   "execution_count": 55,
   "metadata": {},
   "outputs": [
    {
     "data": {
      "text/plain": [
       "Text(0.5, 1.0, 'Диаграмма размаха продаж игр без нулевых значений продаж')"
      ]
     },
     "execution_count": 55,
     "metadata": {},
     "output_type": "execute_result"
    },
    {
     "data": {
      "image/png": "[encoded data removed]",
      "text/plain": [
       "<Figure size 432x288 with 1 Axes>"
      ]
     },
     "metadata": {
      "needs_background": "light"
     },
     "output_type": "display_data"
    }
   ],
   "source": [
    "plt.ylim(0, 125)\n",
    "game_id_sales.boxplot('total_sales')\n",
    "plt.title('Диаграмма размаха продаж игр без нулевых значений продаж')"
   ]
  },
  {
   "cell_type": "code",
   "execution_count": 56,
   "metadata": {},
   "outputs": [
    {
     "data": {
      "text/plain": [
       "count    2755.000000\n",
       "mean       51.532486\n",
       "std       114.438784\n",
       "min         1.000000\n",
       "25%         6.000000\n",
       "50%        16.000000\n",
       "75%        48.000000\n",
       "max      1611.000000\n",
       "Name: total_sales, dtype: float64"
      ]
     },
     "execution_count": 56,
     "metadata": {},
     "output_type": "execute_result"
    }
   ],
   "source": [
    "game_id_sales['total_sales'].describe()"
   ]
  },
  {
   "cell_type": "markdown",
   "metadata": {},
   "source": [
    "Диаграмма размаха и метрики локации изменились, но мы также видим, что среднее существенно больше медианы, что четвертая часть игр продавалась не более 6 раз, но есть несколько игр, продажи которых сильно превышают средние значения."
   ]
  },
  {
   "cell_type": "markdown",
   "metadata": {},
   "source": [
    "### На какой платформе было продано больше всего игр"
   ]
  },
  {
   "cell_type": "code",
   "execution_count": 57,
   "metadata": {},
   "outputs": [
    {
     "data": {
      "text/html": [
       "<div>\n",
       "<style scoped>\n",
       "    .dataframe tbody tr th:only-of-type {\n",
       "        vertical-align: middle;\n",
       "    }\n",
       "\n",
       "    .dataframe tbody tr th {\n",
       "        vertical-align: top;\n",
       "    }\n",
       "\n",
       "    .dataframe thead th {\n",
       "        text-align: right;\n",
       "    }\n",
       "</style>\n",
       "<table border=\"1\" class=\"dataframe\">\n",
       "  <thead>\n",
       "    <tr style=\"text-align: right;\">\n",
       "      <th></th>\n",
       "      <th>platform</th>\n",
       "      <th>total_sales</th>\n",
       "    </tr>\n",
       "  </thead>\n",
       "  <tbody>\n",
       "    <tr>\n",
       "      <td>10</td>\n",
       "      <td>X360</td>\n",
       "      <td>32920</td>\n",
       "    </tr>\n",
       "    <tr>\n",
       "      <td>4</td>\n",
       "      <td>PS3</td>\n",
       "      <td>32420</td>\n",
       "    </tr>\n",
       "    <tr>\n",
       "      <td>5</td>\n",
       "      <td>PS4</td>\n",
       "      <td>21325</td>\n",
       "    </tr>\n",
       "    <tr>\n",
       "      <td>0</td>\n",
       "      <td>3DS</td>\n",
       "      <td>14102</td>\n",
       "    </tr>\n",
       "    <tr>\n",
       "      <td>11</td>\n",
       "      <td>XOne</td>\n",
       "      <td>13938</td>\n",
       "    </tr>\n",
       "  </tbody>\n",
       "</table>\n",
       "</div>"
      ],
      "text/plain": [
       "   platform  total_sales\n",
       "10     X360        32920\n",
       "4       PS3        32420\n",
       "5       PS4        21325\n",
       "0       3DS        14102\n",
       "11     XOne        13938"
      ]
     },
     "execution_count": 57,
     "metadata": {},
     "output_type": "execute_result"
    }
   ],
   "source": [
    "data.groupby('platform', as_index=False).agg({'total_sales':'sum'}).sort_values(by='total_sales', ascending=False).head()"
   ]
  },
  {
   "cell_type": "markdown",
   "metadata": {},
   "source": [
    "__Лидер по продажам среди платформ - X360__, там было продано более 32920 сотен тысяч игр. __PS3 почти также популярна__: здесь продано 32420 сотен тысячи игр, всего лишь на 1,5% меньше, чем на X360.\n",
    "\n",
    "На втором месте - PS4 с 21325 сотнями тысяч продаж, а третье делят XOne и 3DS, на каждой из которых продано около 14000 сотен тысяч игр."
   ]
  },
  {
   "cell_type": "markdown",
   "metadata": {},
   "source": [
    "### Самый популярный жанр игр"
   ]
  },
  {
   "cell_type": "code",
   "execution_count": 58,
   "metadata": {},
   "outputs": [
    {
     "data": {
      "text/html": [
       "<div>\n",
       "<style scoped>\n",
       "    .dataframe tbody tr th:only-of-type {\n",
       "        vertical-align: middle;\n",
       "    }\n",
       "\n",
       "    .dataframe tbody tr th {\n",
       "        vertical-align: top;\n",
       "    }\n",
       "\n",
       "    .dataframe thead th {\n",
       "        text-align: right;\n",
       "    }\n",
       "</style>\n",
       "<table border=\"1\" class=\"dataframe\">\n",
       "  <thead>\n",
       "    <tr style=\"text-align: right;\">\n",
       "      <th></th>\n",
       "      <th>game_id</th>\n",
       "    </tr>\n",
       "    <tr>\n",
       "      <th>genre</th>\n",
       "      <th></th>\n",
       "    </tr>\n",
       "  </thead>\n",
       "  <tbody>\n",
       "    <tr>\n",
       "      <td>Action</td>\n",
       "      <td>1226</td>\n",
       "    </tr>\n",
       "    <tr>\n",
       "      <td>Role-Playing</td>\n",
       "      <td>458</td>\n",
       "    </tr>\n",
       "    <tr>\n",
       "      <td>Adventure</td>\n",
       "      <td>407</td>\n",
       "    </tr>\n",
       "    <tr>\n",
       "      <td>Sports</td>\n",
       "      <td>369</td>\n",
       "    </tr>\n",
       "    <tr>\n",
       "      <td>Misc</td>\n",
       "      <td>364</td>\n",
       "    </tr>\n",
       "    <tr>\n",
       "      <td>Shooter</td>\n",
       "      <td>317</td>\n",
       "    </tr>\n",
       "    <tr>\n",
       "      <td>Racing</td>\n",
       "      <td>168</td>\n",
       "    </tr>\n",
       "    <tr>\n",
       "      <td>Fighting</td>\n",
       "      <td>150</td>\n",
       "    </tr>\n",
       "    <tr>\n",
       "      <td>Simulation</td>\n",
       "      <td>134</td>\n",
       "    </tr>\n",
       "    <tr>\n",
       "      <td>Platform</td>\n",
       "      <td>120</td>\n",
       "    </tr>\n",
       "    <tr>\n",
       "      <td>Strategy</td>\n",
       "      <td>111</td>\n",
       "    </tr>\n",
       "    <tr>\n",
       "      <td>Puzzle</td>\n",
       "      <td>63</td>\n",
       "    </tr>\n",
       "  </tbody>\n",
       "</table>\n",
       "</div>"
      ],
      "text/plain": [
       "              game_id\n",
       "genre                \n",
       "Action           1226\n",
       "Role-Playing      458\n",
       "Adventure         407\n",
       "Sports            369\n",
       "Misc              364\n",
       "Shooter           317\n",
       "Racing            168\n",
       "Fighting          150\n",
       "Simulation        134\n",
       "Platform          120\n",
       "Strategy          111\n",
       "Puzzle             63"
      ]
     },
     "execution_count": 58,
     "metadata": {},
     "output_type": "execute_result"
    }
   ],
   "source": [
    "data.groupby('genre').agg({'game_id':'count'}).sort_values(by='game_id', ascending=False)"
   ]
  },
  {
   "cell_type": "markdown",
   "metadata": {},
   "source": [
    "Все игры относятся к одному из 12 жанров.\n",
    "\n",
    "__Наиболее часто встречающийся жанр - action__, к нему относятся более 30% игр. Другие популярные жанры: role-playing, adventure, sports, но к каждому из них относятся 9-12% игр. Стоит отметить, что деление на жанры весьма условно. Некоторые игры на разных платформах отнесены к разным жанрам."
   ]
  },
  {
   "cell_type": "markdown",
   "metadata": {},
   "source": [
    "### Игры с экстремальными оценками пользователей и критиков"
   ]
  },
  {
   "cell_type": "code",
   "execution_count": 59,
   "metadata": {},
   "outputs": [
    {
     "name": "stdout",
     "output_type": "stream",
     "text": [
      "Оценки пользователей (из 10): минимальная - 0.2 , максимальная - 9.3\n"
     ]
    }
   ],
   "source": [
    "print('Оценки пользователей (из 10): минимальная -', data['user_score'].min(),', максимальная -', data['user_score'].max())"
   ]
  },
  {
   "cell_type": "code",
   "execution_count": 60,
   "metadata": {},
   "outputs": [
    {
     "data": {
      "text/html": [
       "<div>\n",
       "<style scoped>\n",
       "    .dataframe tbody tr th:only-of-type {\n",
       "        vertical-align: middle;\n",
       "    }\n",
       "\n",
       "    .dataframe tbody tr th {\n",
       "        vertical-align: top;\n",
       "    }\n",
       "\n",
       "    .dataframe thead th {\n",
       "        text-align: right;\n",
       "    }\n",
       "</style>\n",
       "<table border=\"1\" class=\"dataframe\">\n",
       "  <thead>\n",
       "    <tr style=\"text-align: right;\">\n",
       "      <th></th>\n",
       "      <th>platform</th>\n",
       "      <th>sales_year</th>\n",
       "      <th>genre</th>\n",
       "      <th>online</th>\n",
       "      <th>offline</th>\n",
       "      <th>critic_score</th>\n",
       "      <th>user_score</th>\n",
       "      <th>rating</th>\n",
       "      <th>game_id</th>\n",
       "      <th>total_sales</th>\n",
       "      <th>score</th>\n",
       "    </tr>\n",
       "  </thead>\n",
       "  <tbody>\n",
       "    <tr>\n",
       "      <td>638</td>\n",
       "      <td>PC</td>\n",
       "      <td>2015</td>\n",
       "      <td>Role-Playing</td>\n",
       "      <td>21</td>\n",
       "      <td>46</td>\n",
       "      <td>93.0</td>\n",
       "      <td>9.3</td>\n",
       "      <td>M</td>\n",
       "      <td>12365</td>\n",
       "      <td>67</td>\n",
       "      <td>есть_отзывы</td>\n",
       "    </tr>\n",
       "    <tr>\n",
       "      <td>2106</td>\n",
       "      <td>PS3</td>\n",
       "      <td>2016</td>\n",
       "      <td>Sports</td>\n",
       "      <td>7</td>\n",
       "      <td>2</td>\n",
       "      <td>NaN</td>\n",
       "      <td>0.2</td>\n",
       "      <td>E</td>\n",
       "      <td>23493</td>\n",
       "      <td>9</td>\n",
       "      <td>есть_отзывы</td>\n",
       "    </tr>\n",
       "    <tr>\n",
       "      <td>2336</td>\n",
       "      <td>PSV</td>\n",
       "      <td>2015</td>\n",
       "      <td>Adventure</td>\n",
       "      <td>0</td>\n",
       "      <td>3</td>\n",
       "      <td>86.0</td>\n",
       "      <td>9.3</td>\n",
       "      <td>M</td>\n",
       "      <td>38270</td>\n",
       "      <td>3</td>\n",
       "      <td>есть_отзывы</td>\n",
       "    </tr>\n",
       "  </tbody>\n",
       "</table>\n",
       "</div>"
      ],
      "text/plain": [
       "     platform  sales_year         genre  online  offline  critic_score  \\\n",
       "638        PC        2015  Role-Playing      21       46          93.0   \n",
       "2106      PS3        2016        Sports       7        2           NaN   \n",
       "2336      PSV        2015     Adventure       0        3          86.0   \n",
       "\n",
       "      user_score rating  game_id  total_sales        score  \n",
       "638          9.3      M    12365           67  есть_отзывы  \n",
       "2106         0.2      E    23493            9  есть_отзывы  \n",
       "2336         9.3      M    38270            3  есть_отзывы  "
      ]
     },
     "execution_count": 60,
     "metadata": {},
     "output_type": "execute_result"
    }
   ],
   "source": [
    "data.query('user_score == 0.2 or user_score == 9.3')"
   ]
  },
  {
   "cell_type": "markdown",
   "metadata": {},
   "source": [
    "Максимальную оценку пользователей получили две игры с рейтингом \"+17\". Одна из них, \"12365\", показывает высокие продажи по сравнению со средним уровнем, но не дотягивает до лидеров. Вторая продавала очень мало.\n",
    "\n",
    "Минимальную оценку пользователей получила игра с рейтингом \"для всех\" жанра \"sports\"."
   ]
  },
  {
   "cell_type": "code",
   "execution_count": 61,
   "metadata": {},
   "outputs": [
    {
     "name": "stdout",
     "output_type": "stream",
     "text": [
      "Оценки критиков (из 100): минимальня - 19.0 , максимальная - 97.0\n"
     ]
    }
   ],
   "source": [
    "print('Оценки критиков (из 100): минимальня -', data['critic_score'].min(),', максимальная -' ,data['critic_score'].max())"
   ]
  },
  {
   "cell_type": "code",
   "execution_count": 62,
   "metadata": {},
   "outputs": [
    {
     "data": {
      "text/html": [
       "<div>\n",
       "<style scoped>\n",
       "    .dataframe tbody tr th:only-of-type {\n",
       "        vertical-align: middle;\n",
       "    }\n",
       "\n",
       "    .dataframe tbody tr th {\n",
       "        vertical-align: top;\n",
       "    }\n",
       "\n",
       "    .dataframe thead th {\n",
       "        text-align: right;\n",
       "    }\n",
       "</style>\n",
       "<table border=\"1\" class=\"dataframe\">\n",
       "  <thead>\n",
       "    <tr style=\"text-align: right;\">\n",
       "      <th></th>\n",
       "      <th>platform</th>\n",
       "      <th>sales_year</th>\n",
       "      <th>genre</th>\n",
       "      <th>online</th>\n",
       "      <th>offline</th>\n",
       "      <th>critic_score</th>\n",
       "      <th>user_score</th>\n",
       "      <th>rating</th>\n",
       "      <th>game_id</th>\n",
       "      <th>total_sales</th>\n",
       "      <th>score</th>\n",
       "    </tr>\n",
       "  </thead>\n",
       "  <tbody>\n",
       "    <tr>\n",
       "      <td>0</td>\n",
       "      <td>PS3</td>\n",
       "      <td>2017</td>\n",
       "      <td>Action</td>\n",
       "      <td>702</td>\n",
       "      <td>909</td>\n",
       "      <td>97.0</td>\n",
       "      <td>8.2</td>\n",
       "      <td>M</td>\n",
       "      <td>20838</td>\n",
       "      <td>1611</td>\n",
       "      <td>есть_отзывы</td>\n",
       "    </tr>\n",
       "    <tr>\n",
       "      <td>1</td>\n",
       "      <td>X360</td>\n",
       "      <td>2017</td>\n",
       "      <td>Action</td>\n",
       "      <td>966</td>\n",
       "      <td>514</td>\n",
       "      <td>97.0</td>\n",
       "      <td>8.1</td>\n",
       "      <td>M</td>\n",
       "      <td>48673</td>\n",
       "      <td>1480</td>\n",
       "      <td>есть_отзывы</td>\n",
       "    </tr>\n",
       "    <tr>\n",
       "      <td>44</td>\n",
       "      <td>XOne</td>\n",
       "      <td>2018</td>\n",
       "      <td>Action</td>\n",
       "      <td>281</td>\n",
       "      <td>219</td>\n",
       "      <td>97.0</td>\n",
       "      <td>7.9</td>\n",
       "      <td>M</td>\n",
       "      <td>39055</td>\n",
       "      <td>500</td>\n",
       "      <td>есть_отзывы</td>\n",
       "    </tr>\n",
       "    <tr>\n",
       "      <td>2115</td>\n",
       "      <td>PS4</td>\n",
       "      <td>2015</td>\n",
       "      <td>Sports</td>\n",
       "      <td>4</td>\n",
       "      <td>6</td>\n",
       "      <td>19.0</td>\n",
       "      <td>3.4</td>\n",
       "      <td>E</td>\n",
       "      <td>12797</td>\n",
       "      <td>10</td>\n",
       "      <td>есть_отзывы</td>\n",
       "    </tr>\n",
       "    <tr>\n",
       "      <td>2797</td>\n",
       "      <td>X360</td>\n",
       "      <td>2017</td>\n",
       "      <td>Racing</td>\n",
       "      <td>4</td>\n",
       "      <td>1</td>\n",
       "      <td>19.0</td>\n",
       "      <td>1.3</td>\n",
       "      <td>M</td>\n",
       "      <td>11902</td>\n",
       "      <td>5</td>\n",
       "      <td>есть_отзывы</td>\n",
       "    </tr>\n",
       "  </tbody>\n",
       "</table>\n",
       "</div>"
      ],
      "text/plain": [
       "     platform  sales_year   genre  online  offline  critic_score  user_score  \\\n",
       "0         PS3        2017  Action     702      909          97.0         8.2   \n",
       "1        X360        2017  Action     966      514          97.0         8.1   \n",
       "44       XOne        2018  Action     281      219          97.0         7.9   \n",
       "2115      PS4        2015  Sports       4        6          19.0         3.4   \n",
       "2797     X360        2017  Racing       4        1          19.0         1.3   \n",
       "\n",
       "     rating  game_id  total_sales        score  \n",
       "0         M    20838         1611  есть_отзывы  \n",
       "1         M    48673         1480  есть_отзывы  \n",
       "44        M    39055          500  есть_отзывы  \n",
       "2115      E    12797           10  есть_отзывы  \n",
       "2797      M    11902            5  есть_отзывы  "
      ]
     },
     "execution_count": 62,
     "metadata": {},
     "output_type": "execute_result"
    }
   ],
   "source": [
    "data.query('critic_score == 19 or critic_score == 97')"
   ]
  },
  {
   "cell_type": "markdown",
   "metadata": {},
   "source": [
    "Максимальную оценку критиков, 97 баллов, получили 3 разных игры. Они продавались на разных платформах, все относятся к жанру \"action\", у всех рейтинг \"+17\", а продажи существенно превышают средние.\n",
    "\n",
    "Игры с минимальной оценкой критиков показали низкие продажи."
   ]
  },
  {
   "cell_type": "markdown",
   "metadata": {},
   "source": [
    "__Корреляция оценок критиков и пользователей__\n",
    "\n",
    "Будем использовать только строки, где есть как оценки пользователей, так и оценки критиков."
   ]
  },
  {
   "cell_type": "code",
   "execution_count": 63,
   "metadata": {},
   "outputs": [],
   "source": [
    "score = data.dropna(subset=['critic_score', 'user_score'])\n",
    "critic_score = score['critic_score']\n",
    "user_score = score['user_score']"
   ]
  },
  {
   "cell_type": "code",
   "execution_count": 64,
   "metadata": {},
   "outputs": [
    {
     "data": {
      "text/plain": [
       "<matplotlib.axes._subplots.AxesSubplot at 0x7f10ad4060b8>"
      ]
     },
     "execution_count": 64,
     "metadata": {},
     "output_type": "execute_result"
    },
    {
     "data": {
      "image/png": "[encoded data removed]",
      "text/plain": [
       "<Figure size 864x360 with 2 Axes>"
      ]
     },
     "metadata": {
      "needs_background": "light"
     },
     "output_type": "display_data"
    }
   ],
   "source": [
    "plt.subplot(121)\n",
    "critic_score.plot(kind='hist', bins=100, figsize=(12,5))\n",
    "plt.subplot(122)\n",
    "user_score.plot(kind='hist', bins=100)"
   ]
  },
  {
   "cell_type": "markdown",
   "metadata": {},
   "source": [
    "Я построила графики плотности оценок, и на вид они не совпадают с нормальным распределением. "
   ]
  },
  {
   "cell_type": "raw",
   "metadata": {},
   "source": [
    "Необходимо рассчитывать не корреляцию Пирсона, а коэффициент ранговой корреляции Спирмена."
   ]
  },
  {
   "cell_type": "code",
   "execution_count": 65,
   "metadata": {},
   "outputs": [
    {
     "data": {
      "text/plain": [
       "0.47658898674396594"
      ]
     },
     "execution_count": 65,
     "metadata": {},
     "output_type": "execute_result"
    }
   ],
   "source": [
    "critic_score.corr(user_score, method='spearman')"
   ]
  },
  {
   "cell_type": "markdown",
   "metadata": {},
   "source": [
    "Полученное значение указывает на __умеренную тесноту связи__ между оценками критиков и оценками пользователей."
   ]
  },
  {
   "cell_type": "markdown",
   "metadata": {},
   "source": [
    "## Портрет пользователя для онлайн и офлайн продаж"
   ]
  },
  {
   "cell_type": "markdown",
   "metadata": {},
   "source": [
    "__Топ-5 предпочтительных жанров__"
   ]
  },
  {
   "cell_type": "code",
   "execution_count": 66,
   "metadata": {},
   "outputs": [],
   "source": [
    "genre_preffered = data.groupby('genre').agg({'online':'sum', 'offline':'sum'}).reset_index()"
   ]
  },
  {
   "cell_type": "code",
   "execution_count": 67,
   "metadata": {},
   "outputs": [],
   "source": [
    "genre_preffered_online = genre_preffered.sort_values(by='online', ascending=False).head().loc[:,['genre', 'online']]"
   ]
  },
  {
   "cell_type": "code",
   "execution_count": 68,
   "metadata": {},
   "outputs": [],
   "source": [
    "genre_preffered_offline = genre_preffered.sort_values(by='offline', ascending=False).head().loc[:,['genre', 'offline']]"
   ]
  },
  {
   "cell_type": "code",
   "execution_count": 69,
   "metadata": {},
   "outputs": [
    {
     "data": {
      "text/html": [
       "<table style=\"display:inline\" border=\"1\" class=\"dataframe\">\n",
       "  <thead>\n",
       "    <tr style=\"text-align: right;\">\n",
       "      <th></th>\n",
       "      <th>genre</th>\n",
       "      <th>online</th>\n",
       "    </tr>\n",
       "  </thead>\n",
       "  <tbody>\n",
       "    <tr>\n",
       "      <th>0</th>\n",
       "      <td>Action</td>\n",
       "      <td>21673</td>\n",
       "    </tr>\n",
       "    <tr>\n",
       "      <th>8</th>\n",
       "      <td>Shooter</td>\n",
       "      <td>18769</td>\n",
       "    </tr>\n",
       "    <tr>\n",
       "      <th>10</th>\n",
       "      <td>Sports</td>\n",
       "      <td>10044</td>\n",
       "    </tr>\n",
       "    <tr>\n",
       "      <th>7</th>\n",
       "      <td>Role-Playing</td>\n",
       "      <td>8237</td>\n",
       "    </tr>\n",
       "    <tr>\n",
       "      <th>3</th>\n",
       "      <td>Misc</td>\n",
       "      <td>6772</td>\n",
       "    </tr>\n",
       "  </tbody>\n",
       "</table style=\"display:inline\"><table style=\"display:inline\" border=\"1\" class=\"dataframe\">\n",
       "  <thead>\n",
       "    <tr style=\"text-align: right;\">\n",
       "      <th></th>\n",
       "      <th>genre</th>\n",
       "      <th>offline</th>\n",
       "    </tr>\n",
       "  </thead>\n",
       "  <tbody>\n",
       "    <tr>\n",
       "      <th>0</th>\n",
       "      <td>Action</td>\n",
       "      <td>18187</td>\n",
       "    </tr>\n",
       "    <tr>\n",
       "      <th>8</th>\n",
       "      <td>Shooter</td>\n",
       "      <td>14280</td>\n",
       "    </tr>\n",
       "    <tr>\n",
       "      <th>10</th>\n",
       "      <td>Sports</td>\n",
       "      <td>7882</td>\n",
       "    </tr>\n",
       "    <tr>\n",
       "      <th>7</th>\n",
       "      <td>Role-Playing</td>\n",
       "      <td>6131</td>\n",
       "    </tr>\n",
       "    <tr>\n",
       "      <th>3</th>\n",
       "      <td>Misc</td>\n",
       "      <td>3928</td>\n",
       "    </tr>\n",
       "  </tbody>\n",
       "</table style=\"display:inline\">"
      ]
     },
     "metadata": {},
     "output_type": "display_data"
    }
   ],
   "source": [
    "display_side_by_side(genre_preffered_online, genre_preffered_offline)"
   ]
  },
  {
   "cell_type": "markdown",
   "metadata": {},
   "source": [
    "Сравнение таблиц с топ-жанрами онлайн- и офлайн-продаж демонстрирует, что четверка самых популярных жанров одинакова у всех покупателей, а продажи онлайн во всех жанрах превышают продажи офлайн."
   ]
  },
  {
   "cell_type": "markdown",
   "metadata": {},
   "source": [
    "__Год максимальных продаж онлайн и офлайн__"
   ]
  },
  {
   "cell_type": "code",
   "execution_count": 70,
   "metadata": {},
   "outputs": [],
   "source": [
    "sales_years = data.groupby('sales_year').agg({'online':'sum', 'offline':'sum'}).reset_index()"
   ]
  },
  {
   "cell_type": "code",
   "execution_count": 71,
   "metadata": {},
   "outputs": [
    {
     "name": "stdout",
     "output_type": "stream",
     "text": [
      "Максимальное количество игр онлайн: 3791.2 млн., - было продано в 2017 году.\n"
     ]
    }
   ],
   "source": [
    "max_online = sales_years['online'].max()\n",
    "max_year_online = sales_years[sales_years['online'] == max_online].iloc[0]['sales_year']\n",
    "print('Максимальное количество игр онлайн:', max_online/10, 'млн., - было продано в', max_year_online, 'году.')"
   ]
  },
  {
   "cell_type": "code",
   "execution_count": 72,
   "metadata": {},
   "outputs": [
    {
     "name": "stdout",
     "output_type": "stream",
     "text": [
      "Максимальное количество игр офлайн: 2743.3 млн., было продано в 2017 году.\n"
     ]
    }
   ],
   "source": [
    "max_offline = sales_years['offline'].max()\n",
    "max_year_offline = sales_years[sales_years['offline'] == max_offline].iloc[0]['sales_year']\n",
    "print('Максимальное количество игр офлайн:', max_offline/10, 'млн., было продано в', max_year_offline, 'году.')"
   ]
  },
  {
   "cell_type": "markdown",
   "metadata": {},
   "source": [
    "Наибольшее количество игр как онлайн, так и офлайн, было продано в 2017-м году, когда ассортимент был максимально широк."
   ]
  },
  {
   "cell_type": "markdown",
   "metadata": {},
   "source": [
    "__Топ-5 предпочтительных платформ__, то есть для каких платформ было приобретено больше всего игр онлайн и оффлайн."
   ]
  },
  {
   "cell_type": "code",
   "execution_count": 73,
   "metadata": {},
   "outputs": [],
   "source": [
    "platform_preffered = data.groupby('platform').agg({'online':'sum', 'offline':'sum'}).reset_index()"
   ]
  },
  {
   "cell_type": "code",
   "execution_count": 74,
   "metadata": {},
   "outputs": [],
   "source": [
    "platform_preffered_online = platform_preffered.sort_values(by='online', ascending=False).head().loc[:, ['platform', 'online']]"
   ]
  },
  {
   "cell_type": "code",
   "execution_count": 75,
   "metadata": {},
   "outputs": [],
   "source": [
    "platform_preffered_offline = platform_preffered.sort_values(by='offline', ascending=False).head().loc[:,['platform', 'offline']]"
   ]
  },
  {
   "cell_type": "code",
   "execution_count": 76,
   "metadata": {},
   "outputs": [
    {
     "data": {
      "text/html": [
       "<table style=\"display:inline\" border=\"1\" class=\"dataframe\">\n",
       "  <thead>\n",
       "    <tr style=\"text-align: right;\">\n",
       "      <th></th>\n",
       "      <th>platform</th>\n",
       "      <th>online</th>\n",
       "    </tr>\n",
       "  </thead>\n",
       "  <tbody>\n",
       "    <tr>\n",
       "      <th>10</th>\n",
       "      <td>X360</td>\n",
       "      <td>21730</td>\n",
       "    </tr>\n",
       "    <tr>\n",
       "      <th>4</th>\n",
       "      <td>PS3</td>\n",
       "      <td>16470</td>\n",
       "    </tr>\n",
       "    <tr>\n",
       "      <th>5</th>\n",
       "      <td>PS4</td>\n",
       "      <td>9447</td>\n",
       "    </tr>\n",
       "    <tr>\n",
       "      <th>11</th>\n",
       "      <td>XOne</td>\n",
       "      <td>8933</td>\n",
       "    </tr>\n",
       "    <tr>\n",
       "      <th>0</th>\n",
       "      <td>3DS</td>\n",
       "      <td>8087</td>\n",
       "    </tr>\n",
       "  </tbody>\n",
       "</table style=\"display:inline\"><table style=\"display:inline\" border=\"1\" class=\"dataframe\">\n",
       "  <thead>\n",
       "    <tr style=\"text-align: right;\">\n",
       "      <th></th>\n",
       "      <th>platform</th>\n",
       "      <th>offline</th>\n",
       "    </tr>\n",
       "  </thead>\n",
       "  <tbody>\n",
       "    <tr>\n",
       "      <th>4</th>\n",
       "      <td>PS3</td>\n",
       "      <td>15950</td>\n",
       "    </tr>\n",
       "    <tr>\n",
       "      <th>5</th>\n",
       "      <td>PS4</td>\n",
       "      <td>11878</td>\n",
       "    </tr>\n",
       "    <tr>\n",
       "      <th>10</th>\n",
       "      <td>X360</td>\n",
       "      <td>11190</td>\n",
       "    </tr>\n",
       "    <tr>\n",
       "      <th>0</th>\n",
       "      <td>3DS</td>\n",
       "      <td>6015</td>\n",
       "    </tr>\n",
       "    <tr>\n",
       "      <th>2</th>\n",
       "      <td>PC</td>\n",
       "      <td>5423</td>\n",
       "    </tr>\n",
       "  </tbody>\n",
       "</table style=\"display:inline\">"
      ]
     },
     "metadata": {},
     "output_type": "display_data"
    }
   ],
   "source": [
    "display_side_by_side(platform_preffered_online, platform_preffered_offline)"
   ]
  },
  {
   "cell_type": "markdown",
   "metadata": {},
   "source": [
    "Если рассматривать продажи онлайн и оффлайн в разрезе платформ, то здесь мы видим интересные отличия. Самой популярной платформой для онлайн-покупателей стала Х360, здесь продажи более чем на 30% выше, чем для следующей в рейтинге PS3. Интересно, что лидером офлайн-продаж является та же платформа PS3, и продажи игр для нее сопоставимы офлайн и онлайн. За PS3 в обоих рейтингах следуют PS4, опять же, с сопоставимыми цифрами продаж."
   ]
  },
  {
   "cell_type": "markdown",
   "metadata": {},
   "source": [
    "__Какой рейтинг ESRB встречается чаще всего__\n",
    "\n",
    "Так как некоторые игры у нас повторяются в списке, следует посчитать количество game_id для каждого рейтинга, а не пользоваться value_counts"
   ]
  },
  {
   "cell_type": "code",
   "execution_count": 77,
   "metadata": {},
   "outputs": [
    {
     "data": {
      "text/html": [
       "<div>\n",
       "<style scoped>\n",
       "    .dataframe tbody tr th:only-of-type {\n",
       "        vertical-align: middle;\n",
       "    }\n",
       "\n",
       "    .dataframe tbody tr th {\n",
       "        vertical-align: top;\n",
       "    }\n",
       "\n",
       "    .dataframe thead th {\n",
       "        text-align: right;\n",
       "    }\n",
       "</style>\n",
       "<table border=\"1\" class=\"dataframe\">\n",
       "  <thead>\n",
       "    <tr style=\"text-align: right;\">\n",
       "      <th></th>\n",
       "      <th>game_id</th>\n",
       "    </tr>\n",
       "    <tr>\n",
       "      <th>rating</th>\n",
       "      <th></th>\n",
       "    </tr>\n",
       "  </thead>\n",
       "  <tbody>\n",
       "    <tr>\n",
       "      <td>E</td>\n",
       "      <td>611</td>\n",
       "    </tr>\n",
       "  </tbody>\n",
       "</table>\n",
       "</div>"
      ],
      "text/plain": [
       "        game_id\n",
       "rating         \n",
       "E           611"
      ]
     },
     "execution_count": 77,
     "metadata": {},
     "output_type": "execute_result"
    }
   ],
   "source": [
    "data.groupby('rating').agg({'game_id':'count'}).sort_values(by='game_id', ascending=False).head(1)"
   ]
  },
  {
   "cell_type": "markdown",
   "metadata": {},
   "source": [
    "Чаще всего встречаются игры с рейтингом \"Е\" (для всех)."
   ]
  },
  {
   "cell_type": "markdown",
   "metadata": {},
   "source": [
    "### Проверка гипотез"
   ]
  },
  {
   "cell_type": "markdown",
   "metadata": {},
   "source": [
    "__Пользовательский рейтинг платформ PS4 и PS3__\n",
    "\n",
    "Н0: пользовательский рейтинг платформ не отличается\n",
    "\n",
    "Н1: пользовательский рейтинг платформ различен\n",
    "\n",
    "Уровень значимости: 5%. Выбран как общепринятое пороговое значение.\n",
    "\n",
    "Необходимо избавиться от пустых значений оценок."
   ]
  },
  {
   "cell_type": "code",
   "execution_count": 78,
   "metadata": {},
   "outputs": [],
   "source": [
    "ps4_user_score = data[data['platform'] == 'PS4']['user_score']\n",
    "ps4_user_score = ps4_user_score.dropna()"
   ]
  },
  {
   "cell_type": "code",
   "execution_count": 79,
   "metadata": {},
   "outputs": [],
   "source": [
    "ps3_user_score = data[data['platform'] == 'PS3']['user_score']\n",
    "ps3_user_score = ps3_user_score.dropna()"
   ]
  },
  {
   "cell_type": "code",
   "execution_count": 80,
   "metadata": {},
   "outputs": [],
   "source": [
    "results_platform = stats.ttest_ind(ps4_user_score, ps3_user_score)"
   ]
  },
  {
   "cell_type": "code",
   "execution_count": 81,
   "metadata": {},
   "outputs": [
    {
     "name": "stdout",
     "output_type": "stream",
     "text": [
      "Исходя из величины p-значения 0.249 мы не отвергаем нулевую гипотезу, различия пользовательского рейтинга платформ PS4 и PS3 статистически не значимы.\n"
     ]
    }
   ],
   "source": [
    "if results_platform.pvalue < 0.05:\n",
    "    print('Исходя из величины p-значения', '{:.3}'.format(results_platform.pvalue), \\\n",
    "          'мы отвергаем нулевую гипотезу, различия пользовательского рейтинга платформ PS4 и PS3 статистически значимы.')\n",
    "else:\n",
    "    print('Исходя из величины p-значения', '{:.3}'.format(results_platform.pvalue), \\\n",
    "          'мы не отвергаем нулевую гипотезу, различия пользовательского рейтинга платформ PS4 и PS3 статистически не значимы.')"
   ]
  },
  {
   "cell_type": "markdown",
   "metadata": {},
   "source": [
    "__Пользовательский рейтинг жанров Action и Sports__\n",
    "\n",
    "Н0: пользовательский рейтинг жанров не отличается\n",
    "\n",
    "Н1: пользовательский рейтинг жанров различен\n",
    "\n",
    "Уровень значимости: 5%. Выбран как общепринятое пороговое значение.\n",
    "\n",
    "Необходимо избавиться от пустых значений оценок."
   ]
  },
  {
   "cell_type": "code",
   "execution_count": 82,
   "metadata": {},
   "outputs": [
    {
     "data": {
      "text/plain": [
       "count    626.000000\n",
       "mean       6.779073\n",
       "std        1.355177\n",
       "min        1.600000\n",
       "25%        6.100000\n",
       "50%        7.100000\n",
       "75%        7.800000\n",
       "max        9.100000\n",
       "Name: user_score, dtype: float64"
      ]
     },
     "execution_count": 82,
     "metadata": {},
     "output_type": "execute_result"
    }
   ],
   "source": [
    "action_user_score = data[data['genre'] == 'Action']['user_score']\n",
    "action_user_score = action_user_score.dropna()\n",
    "action_user_score.describe()"
   ]
  },
  {
   "cell_type": "code",
   "execution_count": 83,
   "metadata": {},
   "outputs": [
    {
     "data": {
      "text/plain": [
       "count    228.000000\n",
       "mean       5.635526\n",
       "std        1.722515\n",
       "min        0.200000\n",
       "25%        4.400000\n",
       "50%        6.000000\n",
       "75%        6.925000\n",
       "max        8.800000\n",
       "Name: user_score, dtype: float64"
      ]
     },
     "execution_count": 83,
     "metadata": {},
     "output_type": "execute_result"
    }
   ],
   "source": [
    "sports_user_score = data[data['genre'] == 'Sports']['user_score']\n",
    "sports_user_score = sports_user_score.dropna()\n",
    "sports_user_score.describe()"
   ]
  },
  {
   "cell_type": "code",
   "execution_count": 84,
   "metadata": {},
   "outputs": [],
   "source": [
    "results_genre = stats.ttest_ind(action_user_score, sports_user_score)"
   ]
  },
  {
   "cell_type": "code",
   "execution_count": 85,
   "metadata": {},
   "outputs": [
    {
     "name": "stdout",
     "output_type": "stream",
     "text": [
      "Исходя из величины p-значения 0.0000000000% мы отвергаем нулевую гипотезу, различия пользовательского рейтинга жанров Action и Sports статистически значимы.\n"
     ]
    }
   ],
   "source": [
    "if results_genre.pvalue < 0.05:\n",
    "    print('Исходя из величины p-значения', '{:.10%}'.format(results_genre.pvalue), \\\n",
    "          'мы отвергаем нулевую гипотезу, различия пользовательского рейтинга жанров Action и Sports статистически значимы.')\n",
    "else:\n",
    "    print('Исходя из величины p-значения', '{:.2%}'.format(results_genre.pvalue), \\\n",
    "          'мы не отвергаем нулевую гипотезу, различия пользовательского рейтинга жанров Action и Sports статистически не значимы.')"
   ]
  },
  {
   "cell_type": "markdown",
   "metadata": {},
   "source": [
    "## Заключение:\n",
    "\n",
    "1. Динамика общих продаж игр связана с количеством игр в продаже: чем больше выбор, тем больше игр продается.\n",
    "\n",
    "2. Представленных данных не достаточно, чтобы заключить, влияет ли наличие оценок пользователей/критиков на продажи игр, из четырех рассмотренных лет в течение двух лет продажи игр без отзывов были выше продаж с отзывами, два года - наоборот.\n",
    "\n",
    "3. Самые популярные платформы: X360 и PS3, продажи игр для этих платформ существенно опережают показатели по другим платформам.\n",
    "\n",
    "4. Самый популярный жанр как при продажах онлайн, так и офлайн - action, за ним следуют shooter и sports. \n",
    "\n",
    "5. Больше всего игр было продано в 2017-м году, как онлайн, так и офлайн. В течение анализируемого периода продажи онлайн превышали продажи офлайн во все годы, кроме 2016-го.\n",
    "\n",
    "6. Сравнив оценки пользователей по платформам PS4 и PS3, мы можем с большой долей уверенности утверждать, что пользовательский рейтинг платформ не отличается. Вероятность того, что два набора оценок могут принадлежать одной генеральной совокупности - 25%.\n",
    "\n",
    "7. Сравнив оценки пользователей по жанрам action и sports, мы считаем статистически верным утверждение о том, что пользователи в среднем дают разные оценки играм этих жанров, хотя если мы просто посмотрим на меры центральной тенденции выборок, то можем ошибочно предположить, что они довольно схожи."
   ]
  }
 ],
 "metadata": {
  "kernelspec": {
   "display_name": "Python 3",
   "language": "python",
   "name": "python3"
  },
  "language_info": {
   "codemirror_mode": {
    "name": "ipython",
    "version": 3
   },
   "file_extension": ".py",
   "mimetype": "text/x-python",
   "name": "python",
   "nbconvert_exporter": "python",
   "pygments_lexer": "ipython3",
   "version": "3.7.3"
  }
 },
 "nbformat": 4,
 "nbformat_minor": 2
}
